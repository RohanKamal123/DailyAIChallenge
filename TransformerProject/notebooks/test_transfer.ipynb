{
 "cells": [
  {
   "cell_type": "code",
   "execution_count": null,
   "id": "703f6794",
   "metadata": {},
   "outputs": [],
   "source": [
    "import torch\n",
    "from src.models.transformer import Transformer\n",
    "model = Transformer(src_vocab_size=10000, tgt_vocab_size=10000)\n",
    "src = torch.randint(0, 10000, (32, 20))\n",
    "tgt = torch.randint(0, 10000, (32, 15))\n",
    "src_mask = generate_padding_mask(src)\n",
    "tgt_mask = generate_lookahead_mask(tgt.size(1)) & generate_padding_mask(tgt)\n",
    "output = model(src, tgt, src_mask, tgt_mask)\n",
    "print(output.shape)  # Should output: torch.Size([32, 15, 10000])"
   ]
  },
  {
   "cell_type": "code",
   "execution_count": null,
   "id": "42e3a084",
   "metadata": {},
   "outputs": [],
   "source": [
    "import torch\n",
    "from src.models.transformer import Transformer\n",
    "from src.models.utils import generate_padding_mask, generate_lookahead_mask\n",
    "\n",
    "# Smaller model for testing\n",
    "model = Transformer(\n",
    "    src_vocab_size=1000,\n",
    "    tgt_vocab_size=1000,\n",
    "    d_model=64,    # Reduced from 512\n",
    "    num_heads=4,   # Reduced from 8\n",
    "    num_layers=1,  # Reduced from 6\n",
    "    d_ff=256       # Reduced from 2048\n",
    ")\n",
    "\n",
    "# Smaller input\n",
    "src = torch.randint(0, 1000, (8, 10))  # batch=8, seq=10\n",
    "tgt = torch.randint(0, 1000, (8, 8))   # seq=8\n",
    "src_mask = generate_padding_mask(src)\n",
    "tgt_mask = generate_lookahead_mask(tgt.size(1)) & generate_padding_mask(tgt)\n",
    "\n",
    "output = model(src, tgt, src_mask, tgt_mask)\n",
    "print(output.shape)  # Should output: torch.Size([8, 8, 1000])"
   ]
  }
 ],
 "metadata": {
  "kernelspec": {
   "display_name": "Python 3",
   "language": "python",
   "name": "python3"
  },
  "language_info": {
   "codemirror_mode": {
    "name": "ipython",
    "version": 3
   },
   "file_extension": ".py",
   "mimetype": "text/x-python",
   "name": "python",
   "nbconvert_exporter": "python",
   "pygments_lexer": "ipython3",
   "version": "3.12.9"
  }
 },
 "nbformat": 4,
 "nbformat_minor": 5
}
